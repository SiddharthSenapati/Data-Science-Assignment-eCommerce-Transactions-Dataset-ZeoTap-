import pandas as pd
from sklearn.cluster import KMeans
from sklearn.preprocessing import StandardScaler
from sklearn.metrics import davies_bouldin_score
import matplotlib.pyplot as plt
import seaborn as sns

# Loading data
customers = pd.read_csv('Customers.csv')
transactions = pd.read_csv('Transactions.csv')

# Merge tables
merged_data = pd.merge(transactions, customers, on='CustomerID')

# Feature Engineering
customer_profiles = merged_data.groupby('CustomerID').agg({
    'TotalValue': 'sum',
    'TransactionID': 'count',
    'Price': 'mean'
}).reset_index()

# Normalize features
scaler = StandardScaler()
normalized_features = scaler.fit_transform(customer_profiles.drop('CustomerID', axis=1))

# Clustering
kmeans = KMeans(n_clusters=4, random_state=42)
clusters = kmeans.fit_predict(normalized_features)
customer_profiles['Cluster'] = clusters

# Clustering Metrics
db_index = davies_bouldin_score(normalized_features, clusters)
print(f'Davies-Bouldin Index: {db_index}')

# Visualization
plt.figure(figsize=(10, 6))
sns.scatterplot(x=normalized_features[:, 0], y=normalized_features[:, 1], hue=clusters, palette='viridis')
plt.title('Customer Clusters')
plt.xlabel('Feature 1')
plt.ylabel('Feature 2')
plt.show()
