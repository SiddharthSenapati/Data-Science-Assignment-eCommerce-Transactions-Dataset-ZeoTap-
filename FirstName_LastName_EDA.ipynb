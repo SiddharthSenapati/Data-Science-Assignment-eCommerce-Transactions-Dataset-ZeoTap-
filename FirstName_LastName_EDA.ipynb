# Importing necessary libraries
import pandas as pd
import numpy as np
import seaborn as sns
import matplotlib.pyplot as plt
from sklearn.metrics.pairwise import cosine_similarity
from sklearn.preprocessing import StandardScaler

# Loading data
customers = pd.read_csv('Customers.csv')
transactions = pd.read_csv('Transactions.csv')
products = pd.read_csv('Products.csv')

# Data Preprocessing
merged_data = pd.merge(transactions, products, on='ProductID')
merged_data = pd.merge(merged_data, customers, on='CustomerID')

# Exploratory Data Analysis (EDA)
def eda():
    # Summary statistics
    print("Summary Statistics:\n", merged_data.describe())
    
    # Check for missing values
    print("Missing Values:\n", merged_data.isnull().sum())
    
    # Distribution of TotalValue
    sns.histplot(merged_data['TotalValue'], bins=30)
    plt.title('Distribution of TotalValue')
    plt.xlabel('TotalValue')
    plt.ylabel('Frequency')
    plt.show()
    
    # Count of transactions per customer
    sns.countplot(x='CustomerID', data=merged_data)
    plt.title('Transactions per Customer')
    plt.xlabel('CustomerID')
    plt.ylabel('Count')
    plt.xticks(rotation=90)
    plt.show()
    
    # Transaction value by Product Category
    sns.boxplot(x='Category', y='TotalValue', data=merged_data)
    plt.title('Transaction Value by Product Category')
    plt.xlabel('Product Category')
    plt.ylabel('TotalValue')
    plt.xticks(rotation=45)
    plt.show()
    
# Run EDA
eda()

# Feature Engineering
customer_profiles = merged_data.groupby('CustomerID').agg({
    'TotalValue': 'sum',
    'TransactionID': 'count',
    'Price': 'mean'
}).reset_index()

# Normalize features
scaler = StandardScaler()
normalized_features = scaler.fit_transform(customer_profiles.drop('CustomerID', axis=1))

# Similarity Calculation
similarity_matrix = cosine_similarity(normalized_features)

# Recommendation
customer_ids = customer_profiles['CustomerID'].values
lookalike_recommendations = {}

for i, customer_id in enumerate(customer_ids[:20]):
    similar_indices = similarity_matrix[i].argsort()[-4:][:-1][::-1]
    similar_customers = customer_ids[similar_indices]
    similarity_scores = similarity_matrix[i][similar_indices]
    lookalike_recommendations[customer_id] = list(zip(similar_customers, similarity_scores))

# Generate Lookalike List
lookalike_list = []

for customer_id, lookalikes in lookalike_recommendations.items():
    for lookalike, score in lookalikes:
        lookalike_list.append({'CustomerID': customer_id, 'LookalikeID': lookalike, 'SimilarityScore': score})

lookalike_df = pd.DataFrame(lookalike_list)

# Save to CSV
lookalike_df.to_csv('Lookalike.csv', index=False)

# Output the first few rows of Lookalike DataFrame
print(lookalike_df.head())
