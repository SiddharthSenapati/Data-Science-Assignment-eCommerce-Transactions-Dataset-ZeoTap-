import pandas as pd
from sklearn.metrics.pairwise import cosine_similarity

# Loading data
customers = pd.read_csv('Customers.csv')
transactions = pd.read_csv('Transactions.csv')
products = pd.read_csv('Products.csv')

# Merge tables
merged_data = pd.merge(transactions, products, on='ProductID')
merged_data = pd.merge(merged_data, customers, on='CustomerID')

# Feature Engineering
customer_profiles = merged_data.groupby('CustomerID').agg({
    'TotalValue': 'sum',
    'TransactionID': 'count',
    'Price': 'mean'
}).reset_index()

# Similarity Calculation
similarity_matrix = cosine_similarity(customer_profiles.drop('CustomerID', axis=1))

# Recommendation
customer_ids = customer_profiles['CustomerID'].values
lookalike_recommendations = {}

for i, customer_id in enumerate(customer_ids[:20]):
    similar_indices = similarity_matrix[i].argsort()[-4:][:-1][::-1]
    similar_customers = customer_ids[similar_indices]
    similarity_scores = similarity_matrix[i][similar_indices]
    lookalike_recommendations[customer_id] = list(zip(similar_customers, similarity_scores))

# Generate Lookalike List
lookalike_list = []

for customer_id, lookalikes in lookalike_recommendations.items():
    for lookalike, score in lookalikes:
        lookalike_list.append({'CustomerID': customer_id, 'LookalikeID': lookalike, 'SimilarityScore': score})

lookalike_df = pd.DataFrame(lookalike_list)

# Save to CSV
lookalike_df.to_csv('Lookalike.csv', index=False)
